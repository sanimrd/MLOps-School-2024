{
 "cells": [
  {
   "cell_type": "code",
   "execution_count": null,
   "metadata": {},
   "outputs": [],
   "source": [
    "import tensorflow as tf \n",
    "import numpy as np "
   ]
  },
  {
   "cell_type": "code",
   "execution_count": 2,
   "metadata": {},
   "outputs": [],
   "source": [
    "(train_images, train_labels), (test_images, test_labels) = tf.keras.datasets.mnist.load_data()"
   ]
  },
  {
   "cell_type": "code",
   "execution_count": 3,
   "metadata": {},
   "outputs": [],
   "source": [
    "train_images  = train_images.reshape(-1, 28, 28, 1).astype(\"float32\")/255.0\n",
    "test_images = test_images.reshape(-1, 28, 28, 1).astype('float32')/255.0"
   ]
  },
  {
   "cell_type": "code",
   "execution_count": null,
   "metadata": {},
   "outputs": [],
   "source": [
    "model = tf.keras.models.Sequential([\n",
    "    tf.keras.layers.Conv2D(32, (3, 3), activation='relu', input_shape=(28, 28, 1)), \n",
    "    tf.keras.layers.MaxPooling2D((2, 2)), \n",
    "    tf.keras.layers.Conv2D(64, (3, 3), activation= 'relu'), \n",
    "    tf.keras.layers.MaxPooling2D((2, 2)), \n",
    "    tf.keras.layers.Flatten(), \n",
    "    tf.keras.layers.Dense(64, activation='relu'), \n",
    "    tf.keras.layers.Dense(10, activation='softmax')\n",
    "\n",
    "])"
   ]
  },
  {
   "cell_type": "code",
   "execution_count": null,
   "metadata": {},
   "outputs": [],
   "source": [
    "model.compile(optimizer='adam', loss='sparse_categorical_crossentropy', metrics=['accuracy'])\n",
    "model.fit(train_images, train_labels, epochs=2, validation_split=0.1)\n"
   ]
  },
  {
   "cell_type": "code",
   "execution_count": 6,
   "metadata": {},
   "outputs": [],
   "source": [
    "#keras\n",
    "model.save('mnist_saved_keras.keras')"
   ]
  },
  {
   "cell_type": "code",
   "execution_count": null,
   "metadata": {},
   "outputs": [],
   "source": [
    "#h5\n",
    "model.save('mnist_saved_h5.h5')"
   ]
  },
  {
   "cell_type": "code",
   "execution_count": null,
   "metadata": {},
   "outputs": [],
   "source": [
    "#tflite\n",
    "converter = tf.lite.TFLiteConverter.from_keras_model(model)\n",
    "tflite_model = converter.convert()\n",
    "with open('mnist_saved_tflite.tflite', \"wb\") as f :\n",
    "    f.write(tflite_model)\n",
    "\n"
   ]
  },
  {
   "cell_type": "code",
   "execution_count": null,
   "metadata": {},
   "outputs": [],
   "source": [
    "#ONNX\n",
    "import tf2onnx\n",
    "import onnx\n",
    "\n",
    "model.output_names = ['output']\n",
    "\n",
    "\n",
    "spec =(tf.TensorSpec((None, 28, 28, 1), tf.float32, name='input'), )\n",
    "onnx_model, _ = tf2onnx.convert.from_keras(model, input_signature=spec)\n",
    "onnx.save_model(onnx_model, 'mnist_saved_onnx.onnx')"
   ]
  },
  {
   "cell_type": "code",
   "execution_count": 10,
   "metadata": {},
   "outputs": [],
   "source": [
    "#size of output models\n",
    "import os\n",
    "\n",
    "\n",
    "def get_file_size(file_name, file_path):\n",
    "    file_size = os.path.getsize(file_path)\n",
    "    file_size = file_size / (1024 * 1024)\n",
    "    print(f\"{file_name} size: {file_size:.2f} MB\")"
   ]
  },
  {
   "cell_type": "code",
   "execution_count": null,
   "metadata": {},
   "outputs": [],
   "source": [
    "get_file_size('h5 format', 'mnist_saved_h5.h5')\n",
    "get_file_size('keras format', 'mnist_saved_keras.keras')\n",
    "get_file_size('onnx format', 'mnist_saved_onnx.onnx')\n",
    "get_file_size('tflite format', 'mnist_saved_tflite.tflite')"
   ]
  },
  {
   "cell_type": "code",
   "execution_count": 21,
   "metadata": {},
   "outputs": [
    {
     "name": "stderr",
     "output_type": "stream",
     "text": [
      "WARNING:absl:Compiled the loaded model, but the compiled metrics have yet to be built. `model.compile_metrics` will be empty until you train or evaluate the model.\n"
     ]
    },
    {
     "name": "stdout",
     "output_type": "stream",
     "text": [
      "WARNING:tensorflow:5 out of the last 5 calls to <function TensorFlowTrainer.make_predict_function.<locals>.one_step_on_data_distributed at 0x7c08d6d9f7e0> triggered tf.function retracing. Tracing is expensive and the excessive number of tracings could be due to (1) creating @tf.function repeatedly in a loop, (2) passing tensors with different shapes, (3) passing Python objects instead of tensors. For (1), please define your @tf.function outside of the loop. For (2), @tf.function has reduce_retracing=True option that can avoid unnecessary retracing. For (3), please refer to https://www.tensorflow.org/guide/function#controlling_retracing and https://www.tensorflow.org/api_docs/python/tf/function for  more details.\n"
     ]
    },
    {
     "name": "stderr",
     "output_type": "stream",
     "text": [
      "WARNING:tensorflow:5 out of the last 5 calls to <function TensorFlowTrainer.make_predict_function.<locals>.one_step_on_data_distributed at 0x7c08d6d9f7e0> triggered tf.function retracing. Tracing is expensive and the excessive number of tracings could be due to (1) creating @tf.function repeatedly in a loop, (2) passing tensors with different shapes, (3) passing Python objects instead of tensors. For (1), please define your @tf.function outside of the loop. For (2), @tf.function has reduce_retracing=True option that can avoid unnecessary retracing. For (3), please refer to https://www.tensorflow.org/guide/function#controlling_retracing and https://www.tensorflow.org/api_docs/python/tf/function for  more details.\n"
     ]
    },
    {
     "name": "stdout",
     "output_type": "stream",
     "text": [
      "\u001b[1m1/1\u001b[0m \u001b[32m━━━━━━━━━━━━━━━━━━━━\u001b[0m\u001b[37m\u001b[0m \u001b[1m0s\u001b[0m 42ms/step\n",
      "predictied_class:  3\n",
      "h5_inference_time 0.0717313289642334\n"
     ]
    }
   ],
   "source": [
    "#inference_time : h5\n",
    "import time\n",
    "from PIL import Image\n",
    "\n",
    "\n",
    "model = tf.keras.models.load_model('mnist_saved_h5.h5')\n",
    "#model.summary()\n",
    "\n",
    "\n",
    "def preprocess_image(image_path):\n",
    "    img = Image.open(image_path).convert('L')\n",
    "    img = img.resize((28, 28))\n",
    "\n",
    "    img_array = np.array(img)\n",
    "    img_array = img_array.astype('float32') / 255.0\n",
    "\n",
    "    img_array = img_array.reshape(1, 28, 28, 1)\n",
    "\n",
    "    return img_array\n",
    "\n",
    "image_path = 'three.jpg'\n",
    "\n",
    "start_time = time.time()\n",
    "\n",
    "test_image = preprocess_image(image_path)\n",
    "\n",
    "predictions = model.predict(test_image)\n",
    "predicted_class = np.argmax(predictions, axis=1)\n",
    "\n",
    "end_time = time.time()\n",
    "\n",
    "h5_inference_time = end_time - start_time\n",
    "\n",
    "print( 'predictied_class: ', predicted_class[0])\n",
    "print(\"h5_inference_time\", h5_inference_time)\n"
   ]
  },
  {
   "cell_type": "code",
   "execution_count": 25,
   "metadata": {},
   "outputs": [
    {
     "name": "stdout",
     "output_type": "stream",
     "text": [
      "predictied_class:  3\n",
      "tflite_inference_time 0.0005831718444824219\n"
     ]
    }
   ],
   "source": [
    "#tflite inference time\n",
    "\n",
    "tflite_model_path = 'mnist_saved_tflite.tflite'\n",
    "\n",
    "\n",
    "interpreter = tf.lite.Interpreter(model_path=tflite_model_path)\n",
    "interpreter.allocate_tensors()\n",
    "\n",
    "\n",
    "input_details = interpreter.get_input_details()\n",
    "output_details = interpreter.get_output_details()\n",
    "\n",
    "\n",
    "image_path = 'three.jpg'\n",
    "\n",
    "\n",
    "test_image = preprocess_image(image_path)\n",
    "\n",
    "start_time = time.time()\n",
    "\n",
    "interpreter.set_tensor(input_details[0]['index'], test_image)\n",
    "\n",
    "interpreter.invoke()\n",
    "\n",
    "predictions = interpreter.get_tensor(output_details[0]['index'])\n",
    "\n",
    "end_time = time.time()\n",
    "\n",
    "predicted_class = np.argmax(predictions, axis=1)\n",
    "tflite_inference_time = end_time - start_time\n",
    "\n",
    "print( 'predictied_class: ', predicted_class[0])\n",
    "print(\"tflite_inference_time\", tflite_inference_time)\n",
    "\n"
   ]
  },
  {
   "cell_type": "code",
   "execution_count": 36,
   "metadata": {},
   "outputs": [
    {
     "name": "stdout",
     "output_type": "stream",
     "text": [
      "predictied_class:  3\n",
      "onnx_inference_time 0.0019366741180419922\n"
     ]
    }
   ],
   "source": [
    "import onnx\n",
    "import onnxruntime as ort\n",
    "\n",
    "onnx_model_path = 'mnist_saved_onnx.onnx'\n",
    "onnx_model = onnx.load(onnx_model_path)\n",
    "\n",
    "\n",
    "#input_shape = onnx_model.graph.input[0].type.tensor_type.shape.dim\n",
    "#print(input_shape)\n",
    "\n",
    "\n",
    "session = ort.InferenceSession(onnx_model_path)\n",
    "\n",
    "input_name = session.get_inputs()[0].name\n",
    "output_name = session.get_outputs()[0].name\n",
    "\n",
    "\n",
    "img = 'three.jpg'\n",
    "\n",
    "start_time = time.time()\n",
    "\n",
    "test_image = preprocess_image(img)\n",
    "\n",
    "predictions = session.run([output_name], {input_name : test_image})\n",
    "\n",
    "end_time = time.time()\n",
    "predicted_class = np.argmax(predictions[0], axis=1)\n",
    "\n",
    "onnx_inference_time = end_time - start_time\n",
    "\n",
    "print( 'predictied_class: ', predicted_class[0])\n",
    "print(\"onnx_inference_time\", onnx_inference_time)\n",
    "\n",
    "\n",
    "\n",
    "\n",
    "\n"
   ]
  },
  {
   "cell_type": "code",
   "execution_count": 38,
   "metadata": {},
   "outputs": [
    {
     "name": "stdout",
     "output_type": "stream",
     "text": [
      "h5_inference_time 0.0717313289642334 seconds\n",
      "onnx_inference_time 0.0019366741180419922 seconds\n",
      "tflite_inference_time 0.0005831718444824219 seconds\n"
     ]
    }
   ],
   "source": [
    "print(\"h5_inference_time\", h5_inference_time, 'seconds')\n",
    "print(\"onnx_inference_time\", onnx_inference_time, 'seconds')\n",
    "print(\"tflite_inference_time\", tflite_inference_time , 'seconds')"
   ]
  },
  {
   "cell_type": "code",
   "execution_count": null,
   "metadata": {},
   "outputs": [],
   "source": [
    "#Accuracy"
   ]
  }
 ],
 "metadata": {
  "kernelspec": {
   "display_name": "base",
   "language": "python",
   "name": "python3"
  },
  "language_info": {
   "codemirror_mode": {
    "name": "ipython",
    "version": 3
   },
   "file_extension": ".py",
   "mimetype": "text/x-python",
   "name": "python",
   "nbconvert_exporter": "python",
   "pygments_lexer": "ipython3",
   "version": "3.11.4"
  }
 },
 "nbformat": 4,
 "nbformat_minor": 2
}
